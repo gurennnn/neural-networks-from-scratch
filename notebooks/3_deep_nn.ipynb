{
 "cells": [
  {
   "cell_type": "markdown",
   "metadata": {},
   "source": [
    "# Deep Neural Network"
   ]
  },
  {
   "cell_type": "markdown",
   "metadata": {},
   "source": [
    "## Description\n",
    "\n",
    "In this notebook, we will try to build a deep neural network (multiple hidden layers), and then use it to classify the cat vs non-cat images."
   ]
  },
  {
   "cell_type": "markdown",
   "metadata": {},
   "source": [
    "## Import Libraries"
   ]
  },
  {
   "cell_type": "code",
   "execution_count": 2,
   "metadata": {},
   "outputs": [],
   "source": [
    "import numpy as np\n",
    "import h5py\n",
    "\n",
    "import sys\n",
    "sys.path.append('../utils/')\n",
    "from nn_utils import *\n",
    "from data_utils import *\n",
    "\n",
    "np.random.seed(1)"
   ]
  },
  {
   "cell_type": "markdown",
   "metadata": {},
   "source": [
    "## Build The Neural Network"
   ]
  },
  {
   "cell_type": "code",
   "execution_count": 6,
   "metadata": {},
   "outputs": [],
   "source": [
    "# helper functions\n",
    "\n",
    "# 1- parameters initialization\n",
    "def initialize_parameters(dimensions):\n",
    "    np.random.seed(1)\n",
    "    parameters = {}\n",
    "    L = len(dimensions)\n",
    "    for l in range(1, L):\n",
    "        parameters[f'W{l}'] = np.random.randn(dimensions[l], dimensions[l-1]) / np.sqrt(dimensions[l-1])\n",
    "        parameters[f'b{l}'] = np.zeros((dimensions[l], 1))\n",
    "    return parameters\n",
    "\n",
    "def linear_forward(A, W, b):\n",
    "    Z = np.dot(W, A) + b\n",
    "    cache = (A, W, b)\n",
    "    return Z, cache\n",
    "\n",
    "def linear_activation_forward(A_prev, W, b, activation):\n",
    "    Z, linear_cache = linear_forward(A_prev, W, b)\n",
    "    if activation == 'sigmoid':\n",
    "        A, activation_cache = sigmoid(Z)\n",
    "    elif activation == 'relu':\n",
    "        A, activation_cache = relu(Z)\n",
    "    cache = (linear_cache, activation_cache)\n",
    "    return A, cache\n",
    "\n",
    "def forward_prop(X, parameters):\n",
    "    caches = []\n",
    "    A = X\n",
    "    L = len(parameters) // 2\n",
    "    for l in range(1, L):\n",
    "        A_prev = A\n",
    "        A, cache = linear_activation_forward(A_prev, parameters[f'W{l}'], parameters[f'b{l}'], 'relu')\n",
    "        caches.append(cache)\n",
    "    AL, cache = linear_activation_forward(A, parameters[f'W{L}'], parameters[f'b{L}'], 'sigmoid')\n",
    "    caches.append(cache)\n",
    "    return AL, caches\n",
    "\n",
    "def compute_cost(AL, Y):\n",
    "    size = Y.shape[1]\n",
    "    cost = (1/size) * (-np.dot(Y,np.log(AL).T) - np.dot(1-Y, np.log(1-AL).T))\n",
    "    cost = np.squeeze(cost)\n",
    "    return cost\n",
    "\n",
    "def linear_backward(dZ, cache):\n",
    "    A_prev, W, b = cache\n",
    "    size = A_prev.shape[1]\n",
    "    dW = 1/size * np.dot(dZ, A_prev.T)\n",
    "    db = 1/size * np.sum(dZ, axis=1, keepdims=True)\n",
    "    dA_prev = np.dot(W.T, dZ)\n",
    "    return dA_prev, dW, db\n",
    "\n",
    "def linear_activation_backward(dA, cache, activation):\n",
    "    linear_cache, activation_cache = cache\n",
    "    if activation == 'relu':\n",
    "        dZ = relu_backward(dA, activation_cache)\n",
    "    elif activation == 'sigmoid':\n",
    "        dZ = sigmoid_backward(dA, activation_cache)\n",
    "    dA_prev, dW, db = linear_backward(dZ, linear_cache)\n",
    "    return dA_prev, dW, db\n",
    "\n",
    "def backward_prop(AL, Y, caches):\n",
    "    grads = {}\n",
    "    L = len(caches)\n",
    "    Y = Y.reshape(AL.shape)\n",
    "    dAL = - (np.divide(Y, AL) - np.divide(1 - Y, 1 - AL))\n",
    "    current_cache = caches[L-1]\n",
    "    grads[f'dA{L-1}'], grads[f'dW{L}'], grads[f'db{L}'] = linear_activation_backward(dAL, current_cache, 'sigmoid')\n",
    "    for l in reversed(range(L-1)):\n",
    "        current_cache = caches[l]\n",
    "        dA_prev_temp, dW_temp, db_temp = linear_activation_backward(grads[f'dA{l+1}'], current_cache, 'relu')\n",
    "        grads[f'dA{l}'] = dA_prev_temp\n",
    "        grads[f'dW{l+1}'] = dW_temp\n",
    "        grads[f'db{l+1}'] = db_temp\n",
    "    return grads\n",
    "\n",
    "def update_parameters(params, grads, learning_rate):\n",
    "    parameters = params.copy()\n",
    "    L = len(parameters) // 2\n",
    "    for l in range(L):\n",
    "        parameters[\"W\" + str(l+1)] = parameters[\"W\" + str(l+1)] - learning_rate * grads[\"dW\" + str(l+1)]\n",
    "        parameters[\"b\" + str(l+1)] = parameters[\"b\" + str(l+1)] - learning_rate * grads[\"db\" + str(l+1)]\n",
    "    return parameters\n",
    "\n",
    "def model(X, Y, dimensions, learning_rate=0.0075, num_iterations=3000, print_cost=False):\n",
    "    costs = []\n",
    "    parameters = initialize_parameters(dimensions)\n",
    "    for i in range(num_iterations):\n",
    "        AL, caches = forward_prop(X, parameters)\n",
    "        cost = compute_cost(AL, Y)\n",
    "        grads = backward_prop(AL, Y, caches)\n",
    "        parameters = update_parameters(parameters, grads, learning_rate)\n",
    "        if print_cost and i % 100 == 0 or i == num_iterations-1:\n",
    "            print('Cost after iteration %i: %f'%(i, np.squeeze(cost)))\n",
    "        if i % 100 == 0 or i == num_iterations:\n",
    "            costs.append(cost)\n",
    "    return parameters, costs    \n",
    "\n",
    "def predict(X, Y, parameters):\n",
    "    size = X.shape[1]\n",
    "    n = len(parameters)\n",
    "    p = np.zeros((1, size))\n",
    "    probas, caches = forward_prop(X, parameters)\n",
    "    for i in range(probas.shape[1]):\n",
    "        if probas[0, i] > 0.5:\n",
    "            p[0, i] = 1\n",
    "        else:\n",
    "            p[0, i] = 0\n",
    "    print(\"Accuracy: \"  + str(np.sum((p == Y)/size)))\n",
    "    return p"
   ]
  },
  {
   "cell_type": "markdown",
   "metadata": {},
   "source": [
    "## Load and Preprocess Data"
   ]
  },
  {
   "cell_type": "code",
   "execution_count": 4,
   "metadata": {},
   "outputs": [],
   "source": [
    "train_x_orig, train_y, test_x_orig, test_y, classes = load_data()\n",
    "train_x, test_x = preprocess_data(train_x_orig, test_x_orig)"
   ]
  },
  {
   "cell_type": "markdown",
   "metadata": {},
   "source": [
    "## Test The Neural Network"
   ]
  },
  {
   "cell_type": "code",
   "execution_count": 7,
   "metadata": {},
   "outputs": [
    {
     "name": "stdout",
     "output_type": "stream",
     "text": [
      "Cost after iteration 0: 0.771749\n",
      "Cost after iteration 100: 0.669270\n",
      "Cost after iteration 200: 0.638874\n",
      "Cost after iteration 300: 0.597884\n",
      "Cost after iteration 400: 0.568827\n",
      "Cost after iteration 500: 0.461260\n",
      "Cost after iteration 600: 0.508484\n",
      "Cost after iteration 700: 0.327596\n",
      "Cost after iteration 800: 0.310398\n",
      "Cost after iteration 900: 0.248831\n",
      "Cost after iteration 1000: 0.207309\n",
      "Cost after iteration 1100: 0.140485\n",
      "Cost after iteration 1200: 0.115670\n",
      "Cost after iteration 1300: 0.099260\n",
      "Cost after iteration 1400: 0.085845\n",
      "Cost after iteration 1500: 0.074975\n",
      "Cost after iteration 1600: 0.067809\n",
      "Cost after iteration 1700: 0.058402\n",
      "Cost after iteration 1800: 0.052054\n",
      "Cost after iteration 1900: 0.047680\n",
      "Cost after iteration 2000: 0.042259\n",
      "Cost after iteration 2100: 0.037797\n",
      "Cost after iteration 2200: 0.034730\n",
      "Cost after iteration 2300: 0.031391\n",
      "Cost after iteration 2400: 0.028788\n",
      "Cost after iteration 2499: 0.026663\n"
     ]
    }
   ],
   "source": [
    "dimensions = [12288, 20, 7, 5, 1]\n",
    "parameters, costs = model(train_x, train_y, dimensions, learning_rate=0.01, num_iterations=2500, print_cost=True)"
   ]
  },
  {
   "cell_type": "code",
   "execution_count": 8,
   "metadata": {},
   "outputs": [
    {
     "name": "stdout",
     "output_type": "stream",
     "text": [
      "Accuracy: 0.9999999999999998\n"
     ]
    }
   ],
   "source": [
    "train_preds = predict(train_x, train_y, parameters)"
   ]
  },
  {
   "cell_type": "code",
   "execution_count": 9,
   "metadata": {},
   "outputs": [
    {
     "name": "stdout",
     "output_type": "stream",
     "text": [
      "Accuracy: 0.8400000000000001\n"
     ]
    }
   ],
   "source": [
    "test_preds = predict(test_x, test_y, parameters)"
   ]
  }
 ],
 "metadata": {
  "kernelspec": {
   "display_name": "base",
   "language": "python",
   "name": "python3"
  },
  "language_info": {
   "codemirror_mode": {
    "name": "ipython",
    "version": 3
   },
   "file_extension": ".py",
   "mimetype": "text/x-python",
   "name": "python",
   "nbconvert_exporter": "python",
   "pygments_lexer": "ipython3",
   "version": "3.10.11"
  },
  "orig_nbformat": 4
 },
 "nbformat": 4,
 "nbformat_minor": 2
}
